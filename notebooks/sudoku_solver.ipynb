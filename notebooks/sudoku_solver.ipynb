{
 "cells": [
  {
   "cell_type": "markdown",
   "metadata": {},
   "source": [
    "## Sudoku Solver\n",
    "\n",
    "A brute force solver class with generators."
   ]
  },
  {
   "cell_type": "code",
   "execution_count": 1,
   "metadata": {},
   "outputs": [],
   "source": [
    "import numpy as np\n",
    "import unittest\n",
    "import math \n",
    "\n",
    "class Sudoku(object):\n",
    "    \"\"\"\n",
    "    A simple brute force solver for sudoku puzzles.\n",
    "    \n",
    "    Parameters\n",
    "    -----------\n",
    "        board: numpy.ndarray of shape (9,9)\n",
    "    \n",
    "    Methods\n",
    "    -----------\n",
    "        solve() \n",
    "            returns <generator object Sudoku.solve ... >\n",
    "            usage example,\n",
    "                solution_generator = Sudoku(board).solve()\n",
    "                next(solution_generator).view()\n",
    "    \"\"\"\n",
    "    \n",
    "    MAXROW = 9\n",
    "    MAXCOL = 9\n",
    "    \n",
    "    def __init__(self, board=np.zeros((9, 9), dtype='int64')):\n",
    "        if not isinstance(board, np.ndarray) or board.shape != (9,9):\n",
    "            raise ValueError('Only supports a numpy.ndarray of shape (9,9) at current.')\n",
    "        self.board = board\n",
    "\n",
    "    def solve(self):\n",
    "        \"\"\"\n",
    "        Create a generartor of boards that may be lazily evaluated.\n",
    "        \"\"\"\n",
    "        \n",
    "        for row in range (0, Sudoku.MAXROW):\n",
    "            for col in range (0, Sudoku.MAXCOL):\n",
    "                if self.board[row][col] == 0:\n",
    "                    for num in range (1, Sudoku.MAXROW+1):\n",
    "                        if self._is_valid_placement(row, col, num):\n",
    "                            self.board[row][col] = num\n",
    "                            yield from self.solve()\n",
    "                            self.board[row][col] = 0\n",
    "                    return\n",
    "        yield self.board\n",
    "            \n",
    "    def _is_valid_placement(self, row, col, num):\n",
    "        \"\"\"\n",
    "        Returns True if we can place num at self.board[row][col] and not violate any rules.\n",
    "        \"\"\"\n",
    "        \n",
    "        if not (0 <= row < Sudoku.MAXROW) or not (0 <= col < Sudoku.MAXCOL):\n",
    "            raise ValueError(f'({row}, {col}) is off the board; the maximum is ({Sudoku.MAXROW}, {Sudoku.MAXCOL}).')\n",
    "                \n",
    "        if (self._is_valid_placement_row(row, col, num) and \n",
    "            self._is_valid_placement_col(row, col, num) and \n",
    "            self._is_valid_placement_square(row, col, num)):\n",
    "            return True\n",
    "        \n",
    "        return False\n",
    "    \n",
    "    def _is_valid_placement_row(self, row, col, num):\n",
    "        for i in range(0, Sudoku.MAXROW):\n",
    "            if self.board[row][i] == num:\n",
    "                return False\n",
    "        return True\n",
    "    \n",
    "    def _is_valid_placement_col(self, row, col, num):\n",
    "        for i in range(0, Sudoku.MAXCOL):\n",
    "            if self.board[i][col] == num:\n",
    "                return False\n",
    "        return True\n",
    "    \n",
    "    def _is_valid_placement_square(self, row, col, num):\n",
    "        square_len = math.floor(math.sqrt(Sudoku.MAXROW))\n",
    "        for i in range(math.floor(row / square_len) * square_len, math.floor(row / square_len) * square_len + square_len):\n",
    "            for j in range(math.floor(col / square_len) * square_len, math.floor(col / square_len) * square_len + square_len):\n",
    "                if self.board[i][j] == num:\n",
    "                    return False\n",
    "        return True\n"
   ]
  },
  {
   "cell_type": "markdown",
   "metadata": {},
   "source": [
    "#### Solve a real puzzle"
   ]
  },
  {
   "cell_type": "code",
   "execution_count": 2,
   "metadata": {},
   "outputs": [
    {
     "data": {
      "text/plain": [
       "array([[6, 1, 3, 4, 5, 9, 8, 2, 7],\n",
       "       [2, 5, 7, 3, 8, 1, 6, 4, 9],\n",
       "       [9, 8, 4, 7, 6, 2, 5, 3, 1],\n",
       "       [3, 7, 8, 1, 4, 5, 9, 6, 2],\n",
       "       [5, 6, 1, 2, 9, 8, 3, 7, 4],\n",
       "       [4, 2, 9, 6, 7, 3, 1, 8, 5],\n",
       "       [8, 3, 2, 5, 1, 7, 4, 9, 6],\n",
       "       [7, 4, 5, 9, 3, 6, 2, 1, 8],\n",
       "       [1, 9, 6, 8, 2, 4, 7, 5, 3]])"
      ]
     },
     "execution_count": 2,
     "metadata": {},
     "output_type": "execute_result"
    }
   ],
   "source": [
    "expert = np.array([[0, 0, 0, 0, 5, 0, 8, 0, 0],\n",
    "                   [0, 0, 7, 0, 0, 1, 6, 0, 0],\n",
    "                   [0, 0, 0, 7, 0, 2, 0, 3, 0],\n",
    "                   [0, 0, 8, 0, 0, 0, 0, 0, 0],\n",
    "                   [0, 0, 0, 2, 9, 0, 3, 7, 0],          \n",
    "                   [4, 0, 0, 0, 0, 0, 0, 0, 5],\n",
    "                   [8, 0, 2, 0, 0, 7, 0, 0, 0],\n",
    "                   [0, 4, 0, 0, 3, 0, 0, 1, 8],\n",
    "                   [0, 0, 6, 0, 0, 0, 0, 0, 0]])\n",
    "\n",
    "expert_puzzle = Sudoku(expert)\n",
    "solution = expert_puzzle.solve()  # solution is a generator of solutions\n",
    "next(solution).view()"
   ]
  },
  {
   "cell_type": "markdown",
   "metadata": {},
   "source": [
    "#### Blank boards have solutions too.\n",
    "\n",
    "_many_ in fact, so this is where the generator is useful."
   ]
  },
  {
   "cell_type": "code",
   "execution_count": 3,
   "metadata": {},
   "outputs": [],
   "source": [
    "# create board, load solution set into a generator\n",
    "board = np.zeros((9, 9), dtype='int64')\n",
    "puzzle = Sudoku(board)\n",
    "solution = puzzle.solve()  # solution is a generator of solutions"
   ]
  },
  {
   "cell_type": "code",
   "execution_count": 4,
   "metadata": {},
   "outputs": [
    {
     "data": {
      "text/plain": [
       "array([[1, 2, 3, 4, 5, 6, 7, 8, 9],\n",
       "       [4, 5, 6, 7, 8, 9, 1, 2, 3],\n",
       "       [7, 8, 9, 1, 2, 3, 4, 5, 6],\n",
       "       [2, 1, 4, 3, 6, 5, 8, 9, 7],\n",
       "       [3, 6, 5, 8, 9, 7, 2, 1, 4],\n",
       "       [8, 9, 7, 2, 1, 4, 3, 6, 5],\n",
       "       [5, 3, 1, 6, 4, 2, 9, 7, 8],\n",
       "       [6, 4, 2, 9, 7, 8, 5, 3, 1],\n",
       "       [9, 7, 8, 5, 3, 1, 6, 4, 2]])"
      ]
     },
     "execution_count": 4,
     "metadata": {},
     "output_type": "execute_result"
    }
   ],
   "source": [
    "# first solution \n",
    "next(solution).view()"
   ]
  },
  {
   "cell_type": "code",
   "execution_count": 5,
   "metadata": {},
   "outputs": [
    {
     "data": {
      "text/plain": [
       "array([[1, 2, 3, 4, 5, 6, 7, 8, 9],\n",
       "       [4, 5, 6, 7, 8, 9, 1, 2, 3],\n",
       "       [7, 8, 9, 1, 2, 3, 4, 5, 6],\n",
       "       [2, 1, 4, 3, 6, 5, 8, 9, 7],\n",
       "       [3, 6, 5, 8, 9, 7, 2, 1, 4],\n",
       "       [8, 9, 7, 2, 1, 4, 3, 6, 5],\n",
       "       [5, 3, 1, 6, 4, 2, 9, 7, 8],\n",
       "       [6, 4, 8, 9, 7, 1, 5, 3, 2],\n",
       "       [9, 7, 2, 5, 3, 8, 6, 4, 1]])"
      ]
     },
     "execution_count": 5,
     "metadata": {},
     "output_type": "execute_result"
    }
   ],
   "source": [
    "# second solution\n",
    "next(solution).view()"
   ]
  },
  {
   "cell_type": "markdown",
   "metadata": {},
   "source": [
    "_... we could do this for a long time._"
   ]
  },
  {
   "cell_type": "markdown",
   "metadata": {},
   "source": [
    "#### Tests"
   ]
  },
  {
   "cell_type": "code",
   "execution_count": 6,
   "metadata": {},
   "outputs": [
    {
     "name": "stderr",
     "output_type": "stream",
     "text": [
      "test_is_valid_placement (__main__.TestSudoku) ... ok\n",
      "test_solution (__main__.TestSudoku) ... ok\n",
      "\n",
      "----------------------------------------------------------------------\n",
      "Ran 2 tests in 31.389s\n",
      "\n",
      "OK\n"
     ]
    },
    {
     "data": {
      "text/plain": [
       "<unittest.main.TestProgram at 0x114661d50>"
      ]
     },
     "execution_count": 6,
     "metadata": {},
     "output_type": "execute_result"
    }
   ],
   "source": [
    "class TestSudoku(unittest.TestCase):\n",
    "    \n",
    "    def test_is_valid_placement(self):\n",
    "        board = np.zeros((9, 9), dtype='int64')\n",
    "        board[1][4] = 1\n",
    "        board[8][7] = 1\n",
    "        puzzle = Sudoku(board)\n",
    "        \n",
    "        self.assertFalse(puzzle._is_valid_placement(1,3,1)) # row test\n",
    "        self.assertFalse(puzzle._is_valid_placement(0,4,1)) # col test\n",
    "        self.assertFalse(puzzle._is_valid_placement(8,8,1)) # square test\n",
    "        self.assertTrue(puzzle._is_valid_placement(2,3,2))\n",
    "        \n",
    "         # Test boundaries\n",
    "        self.assertRaises(ValueError, puzzle._is_valid_placement, 2, 9, 1)\n",
    "    \n",
    "    def test_solution(self):\n",
    "        # board with only one outcome\n",
    "        board = np.array([[0, 0, 0, 6, 8, 0, 0, 0, 0],\n",
    "                          [0, 6, 0, 0, 0, 0, 5, 0, 0],\n",
    "                          [5, 0, 0, 0, 3, 0, 0, 0, 0],\n",
    "                          [0, 0, 0, 9, 2, 0, 0, 0, 0],\n",
    "                          [0, 0, 6, 0, 0, 0, 0, 0, 1],          \n",
    "                          [3, 4, 0, 0, 0, 0, 0, 0, 6],\n",
    "                          [0, 1, 0, 3, 0, 0, 0, 0, 7],\n",
    "                          [0, 0, 7, 0, 0, 0, 9, 0, 0],\n",
    "                          [0, 8, 0, 0, 9, 0, 2, 5, 0]])\n",
    "        # desired outcome\n",
    "        sol = np.array([[1, 3, 2, 6, 8, 5, 4, 7, 9], \n",
    "                        [7, 6, 4, 2, 1, 9, 5, 3, 8],\n",
    "                        [5, 9, 8, 7, 3, 4, 1, 6, 2],\n",
    "                        [8, 7, 1, 9, 2, 6, 3, 4, 5],\n",
    "                        [2, 5, 6, 4, 7, 3, 8, 9, 1],\n",
    "                        [3, 4, 9, 8, 5, 1, 7, 2, 6],\n",
    "                        [9, 1, 5, 3, 4, 2, 6, 8, 7],\n",
    "                        [4, 2, 7, 5, 6, 8, 9, 1, 3],\n",
    "                        [6, 8, 3, 1, 9, 7, 2, 5, 4]])\n",
    "        # compute and see.\n",
    "        expert_puzzle = Sudoku(board)\n",
    "        solution = expert_puzzle.solve()\n",
    "        derived_solution = next(solution)\n",
    "        \n",
    "        # test\n",
    "        self.assertTrue((derived_solution == sol).all())\n",
    "\n",
    "unittest.main(argv=[''], verbosity=2, exit=False)"
   ]
  },
  {
   "cell_type": "code",
   "execution_count": null,
   "metadata": {},
   "outputs": [],
   "source": []
  }
 ],
 "metadata": {
  "kernelspec": {
   "display_name": "Python 3",
   "language": "python",
   "name": "python3"
  },
  "language_info": {
   "codemirror_mode": {
    "name": "ipython",
    "version": 3
   },
   "file_extension": ".py",
   "mimetype": "text/x-python",
   "name": "python",
   "nbconvert_exporter": "python",
   "pygments_lexer": "ipython3",
   "version": "3.7.4"
  }
 },
 "nbformat": 4,
 "nbformat_minor": 4
}
