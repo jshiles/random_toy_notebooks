{
 "cells": [
  {
   "cell_type": "markdown",
   "metadata": {},
   "source": [
    "# Estimate Pi\n",
    "\n",
    "I saw an interview question on Reddit that said, \"Given a function that randomly generates a number between 0 and 1, estimate Pi\".  The question seems fun just from the question's construction alone.  So here goes..."
   ]
  },
  {
   "cell_type": "markdown",
   "metadata": {},
   "source": [
    "### Explanation\n",
    "\n",
    "Pi makes me think of circles, and I know the formula for the Area of a circle.  With a sampling, I can estimate the area of a circle.  The function can generate points from 0 to 1, so I will use a circle with a radius of 1, or more precisely a quarter of a circle.\n",
    "\n",
    "I'll use the function to generate 2 random numbers between 0, 1.  These will be coordinates for a point (x,y).  If the point is less than a distance of 1 unit away, then it is inside the circle. We can estimate Pi using the ratio of points inside the circle to total points.\n",
    "\n",
    "Some formulas\n",
    "- Area of Shaded Arc = (Pi * r^2 ) / 4 \n",
    "- We can use the ratio of num_sampes_in_shaded_area to num_samples_total to estimate the Area, so we end up with (Pi * r^2 ) / 4 = (num_sampes_in_shaded_area / num_samples_total)\n",
    "    - Using with r=1, we can reduce to **Pi = 4 * (num_sampes_in_shaded_area / num_samples_total)**\n",
    "    - num_sampes_in_shaded_area simply means the point's distance from origin is less than or equal to 1, Distance from origin = sqrt(x^2 * y°2)\n",
    "\n",
    "If we use enough samples, we should get close to Pi.\n",
    "\n",
    "See the image below for an illustration."
   ]
  },
  {
   "cell_type": "code",
   "execution_count": 1,
   "metadata": {},
   "outputs": [
    {
     "data": {
      "image/png": "[encoded data removed]",
      "text/plain": [
       "<Figure size 360x360 with 1 Axes>"
      ]
     },
     "metadata": {
      "needs_background": "light"
     },
     "output_type": "display_data"
    }
   ],
   "source": [
    "import math\n",
    "from random import uniform\n",
    "import time\n",
    "\n",
    "from pylab import *\n",
    "import matplotlib.patches as patches\n",
    "import matplotlib.pyplot as plt\n",
    "\n",
    "x = [uniform(0,1) for _ in range(50)]\n",
    "y = [uniform(0,1) for _ in range(50)]\n",
    "color=['m','g','r','b']\n",
    "\n",
    "fig = plt.figure(figsize=(5,5))\n",
    "ax = fig.add_subplot(111)\n",
    "\n",
    "e1 = patches.Circle((0, 0), 1, alpha=0.1) # anegle=angle, linewidth=2, fill=False, zorder=2)\n",
    "ax.add_patch(e1)\n",
    "scatter(x,y, s=40 ,marker='o', c='r')\n",
    "\n",
    "ax.set_xlim(0, 1.0)\n",
    "ax.set_ylim(0, 1.0)\n",
    "ax.set_title('50 Points')\n",
    "\n",
    "grid()\n",
    "show()"
   ]
  },
  {
   "cell_type": "markdown",
   "metadata": {},
   "source": [
    "### Coding It..."
   ]
  },
  {
   "cell_type": "code",
   "execution_count": 2,
   "metadata": {},
   "outputs": [
    {
     "data": {
      "text/plain": [
       "3.14159"
      ]
     },
     "execution_count": 2,
     "metadata": {},
     "output_type": "execute_result"
    }
   ],
   "source": [
    "round(math.pi,5)"
   ]
  },
  {
   "cell_type": "markdown",
   "metadata": {},
   "source": [
    "Let's see how close we can get with a reasonable enough compute time."
   ]
  },
  {
   "cell_type": "code",
   "execution_count": 3,
   "metadata": {},
   "outputs": [],
   "source": [
    "def estimate_pi(n=100):\n",
    "    '''\n",
    "    Estimate Pi by sampling.\n",
    "    \n",
    "    Parameters:\n",
    "        n: <int> default: 100\n",
    "            Number of samples we will make.\n",
    "\n",
    "    Returns:\n",
    "        <float> with our estimate of Pi\n",
    "    '''    \n",
    "\n",
    "    if not isintance(n, int):\n",
    "        raise ValueError('n must be an int')\n",
    "    \n",
    "    num_total = 0\n",
    "    num_in_circle = 0\n",
    "    \n",
    "    for _ in range(n):\n",
    "        x = uniform(0,1)\n",
    "        y = uniform(0,1)\n",
    "        if math.sqrt(x**2 + y**2) <= 1:\n",
    "            num_in_circle = num_in_circle + 1\n",
    "        num_total = num_total + 1\n",
    "    \n",
    "    pi = 4 * num_in_circle / num_total\n",
    "    return pi"
   ]
  },
  {
   "cell_type": "code",
   "execution_count": 4,
   "metadata": {},
   "outputs": [
    {
     "name": "stdout",
     "output_type": "stream",
     "text": [
      "3.32\t10^2 samples, elapsed: 0.00059 seconds\n",
      "3.172\t10^3 samples, elapsed: 0.00548 seconds\n",
      "3.1304\t10^4 samples, elapsed: 0.07998 seconds\n",
      "3.13992\t10^5 samples, elapsed: 0.60106 seconds\n",
      "3.14266\t10^6 samples, elapsed: 5.58325 seconds\n",
      "3.14099\t10^7 samples, elapsed: 55.72556 seconds\n",
      "3.1416\t10^8 samples, elapsed: 551.9178 seconds\n"
     ]
    }
   ],
   "source": [
    "for x in range(2,9):\n",
    "    start = time.time()\n",
    "    pi = estimate_pi(n=10**x)\n",
    "    end = time.time()\n",
    "    print(f\"{round(pi,5)}\\t10^{x} samples, elapsed: {round(end - start,5)} seconds\")"
   ]
  },
  {
   "cell_type": "markdown",
   "metadata": {},
   "source": [
    "Not too bad, but as we get more accurate the computation time takes a looong time."
   ]
  },
  {
   "cell_type": "markdown",
   "metadata": {},
   "source": [
    "Can we make it go a bit faster by removing that sqrt?  Anything lower than 1 is going to have a sqrt lower than 1, and greater than 1 will have a sqrt greater than 1."
   ]
  },
  {
   "cell_type": "code",
   "execution_count": 5,
   "metadata": {},
   "outputs": [],
   "source": [
    "def estimate_pi_faster(n=100):\n",
    "    '''\n",
    "    Estimate Pi by sampling.\n",
    "    \n",
    "    Parameters:\n",
    "        n: <int> default: 100\n",
    "            Number of samples we will make.\n",
    "\n",
    "    Returns:\n",
    "        <float> with our estimate of Pi\n",
    "    '''\n",
    "    \n",
    "    if not isintance(n, int):\n",
    "        raise ValueError('n must be an int')\n",
    "\n",
    "    num_total = 0\n",
    "    num_in_circle = 0\n",
    "    \n",
    "    for _ in range(n):\n",
    "        x = uniform(0,1)\n",
    "        y = uniform(0,1)\n",
    "        if x**2 + y**2 <= 1:\n",
    "            num_in_circle = num_in_circle + 1\n",
    "        num_total = num_total + 1\n",
    "    \n",
    "    pi = 4 * num_in_circle / num_total\n",
    "    return pi"
   ]
  },
  {
   "cell_type": "code",
   "execution_count": 6,
   "metadata": {},
   "outputs": [
    {
     "name": "stdout",
     "output_type": "stream",
     "text": [
      "2.92\t10^2 samples, elapsed: 0.00057 seconds\n",
      "3.132\t10^3 samples, elapsed: 0.00532 seconds\n",
      "3.1464\t10^4 samples, elapsed: 0.0581 seconds\n",
      "3.13736\t10^5 samples, elapsed: 0.5966 seconds\n",
      "3.14109\t10^6 samples, elapsed: 5.52422 seconds\n",
      "3.14151\t10^7 samples, elapsed: 54.1633 seconds\n",
      "3.14168\t10^8 samples, elapsed: 565.61989 seconds\n"
     ]
    }
   ],
   "source": [
    "for x in range(2,9):\n",
    "    start = time.time()\n",
    "    pi = estimate_pi_faster(n=10**x)\n",
    "    end = time.time()\n",
    "    print(f\"{round(pi,5)}\\t10^{x} samples, elapsed: {round(end - start,5)} seconds\")"
   ]
  },
  {
   "cell_type": "markdown",
   "metadata": {},
   "source": [
    "... *not really ;)*"
   ]
  },
  {
   "cell_type": "code",
   "execution_count": null,
   "metadata": {},
   "outputs": [],
   "source": []
  }
 ],
 "metadata": {
  "kernelspec": {
   "display_name": "Python 3",
   "language": "python",
   "name": "python3"
  },
  "language_info": {
   "codemirror_mode": {
    "name": "ipython",
    "version": 3
   },
   "file_extension": ".py",
   "mimetype": "text/x-python",
   "name": "python",
   "nbconvert_exporter": "python",
   "pygments_lexer": "ipython3",
   "version": "3.7.4"
  }
 },
 "nbformat": 4,
 "nbformat_minor": 4
}
