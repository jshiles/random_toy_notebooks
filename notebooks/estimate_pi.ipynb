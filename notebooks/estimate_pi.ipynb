{
 "cells": [
  {
   "cell_type": "markdown",
   "metadata": {},
   "source": [
    "# Estimate Pi\n",
    "\n",
    "I saw an interview question on Reddit that said, \"Given a function that randomly generates a number between 0 and 1, estimate Pi\".  The question seems fun just from the question's construction alone.  So here goes..."
   ]
  },
  {
   "cell_type": "markdown",
   "metadata": {},
   "source": [
    "### Explanation\n",
    "\n",
    "Pi makes me think of circles, and I know the formula for the Area of a circle.  With a sampling, I can estimate the area of a circle.  The function can generate points from 0 to 1, so I will use a circle with a radius of 1, or more precisely a quarter of a circle.\n",
    "\n",
    "I'll use the function to generate 2 random numbers between 0, 1.  These will be coordinates for a point (x,y).  If the point is less than a distance of 1 unit away, then it is inside the circle. We can estimate Pi using the ratio of points inside the circle to total points.\n",
    "\n",
    "Some formulas\n",
    "- Area of Shaded Arc = (Pi * r^2 ) / 4 \n",
    "- We can use the ratio of num_sampes_in_shaded_area to num_samples_total to estimate the Area, so we end up with (Pi * r^2 ) / 4 = (num_sampes_in_shaded_area / num_samples_total)\n",
    "    - Using with r=1, we can reduce to **Pi = 4 * (num_sampes_in_shaded_area / num_samples_total)**\n",
    "    - num_sampes_in_shaded_area simply means the point's distance from origin is less than or equal to 1, Distance from origin = sqrt(x^2 * y°2)\n",
    "\n",
    "If we use enough samples, we should get close to Pi.\n",
    "\n",
    "See the image below for an illustration."
   ]
  },
  {
   "cell_type": "code",
   "execution_count": 10,
   "metadata": {},
   "outputs": [
    {
     "data": {
      "image/png": "[encoded data removed]",
      "text/plain": [
       "<Figure size 360x360 with 1 Axes>"
      ]
     },
     "metadata": {
      "needs_background": "light"
     },
     "output_type": "display_data"
    }
   ],
   "source": [
    "import numpy as np\n",
    "import math\n",
    "from random import uniform\n",
    "import time\n",
    "\n",
    "import matplotlib.patches as patches\n",
    "import matplotlib.pyplot as plt\n",
    "\n",
    "distance_from_origin = lambda x,y: math.sqrt(x**2 + y**2)\n",
    "is_inside_circle = lambda x,y: distance_from_origin(x,y) <= 1\n",
    "\n",
    "# generate 50 data points (x,y) for visualization purposes.\n",
    "x_y_points = [(uniform(0,1), uniform(0,1)) for _ in range(50)]\n",
    "\n",
    "fig = plt.figure(figsize=(5,5))\n",
    "ax = fig.add_subplot(111)\n",
    "\n",
    "# draw arc\n",
    "e1 = patches.Circle((0, 0), 1, alpha=0.1)\n",
    "ax.add_patch(e1)\n",
    "\n",
    "# add generated points, color coded.\n",
    "plt.scatter(\n",
    "    [t[0] for t in x_y_points if is_inside_circle(t[0], t[1])], \n",
    "    [t[1] for t in x_y_points if is_inside_circle(t[0], t[1])], \n",
    "    s=40,\n",
    "    marker='o', \n",
    "    c='b'\n",
    ")\n",
    "plt.scatter(\n",
    "    [t[0] for t in x_y_points if not is_inside_circle(t[0], t[1])], \n",
    "    [t[1] for t in x_y_points if not is_inside_circle(t[0], t[1])], \n",
    "    s=40,\n",
    "    marker='o', \n",
    "    c='r'\n",
    ")\n",
    "\n",
    "# set some simple chart options.\n",
    "ax.set_xlim(0, 1.0)\n",
    "ax.set_ylim(0, 1.0)\n",
    "ax.set_title('50 Points')\n",
    "\n",
    "plt.grid()\n",
    "plt.show()"
   ]
  },
  {
   "cell_type": "markdown",
   "metadata": {},
   "source": [
    "### Coding It..."
   ]
  },
  {
   "cell_type": "code",
   "execution_count": 11,
   "metadata": {},
   "outputs": [
    {
     "data": {
      "text/plain": [
       "3.14159"
      ]
     },
     "execution_count": 11,
     "metadata": {},
     "output_type": "execute_result"
    }
   ],
   "source": [
    "round(math.pi,5)"
   ]
  },
  {
   "cell_type": "markdown",
   "metadata": {},
   "source": [
    "Let's see how close we can get with a reasonable enough compute time."
   ]
  },
  {
   "cell_type": "code",
   "execution_count": 12,
   "metadata": {},
   "outputs": [],
   "source": [
    "def estimate_pi(n=100):\n",
    "    '''\n",
    "    Estimate Pi by sampling.\n",
    "    \n",
    "    Parameters:\n",
    "        n: <int> default: 100\n",
    "            Number of samples we will make.\n",
    "\n",
    "    Returns:\n",
    "        <float> with our estimate of Pi\n",
    "    '''    \n",
    "\n",
    "    if not isinstance(n, int):\n",
    "        raise ValueError('n must be an int')\n",
    "    \n",
    "    num_total = 0\n",
    "    num_in_circle = 0\n",
    "    \n",
    "    for _ in range(n):\n",
    "        if is_inside_circle(uniform(0,1), uniform(0,1)):\n",
    "            num_in_circle = num_in_circle + 1\n",
    "        num_total = num_total + 1\n",
    "\n",
    "    return 4 * num_in_circle / num_total"
   ]
  },
  {
   "cell_type": "code",
   "execution_count": 13,
   "metadata": {},
   "outputs": [
    {
     "name": "stdout",
     "output_type": "stream",
     "text": [
      "3.48\t10^2 samples, elapsed: 0.00023 seconds\n",
      "3.116\t10^3 samples, elapsed: 0.002 seconds\n",
      "3.1424\t10^4 samples, elapsed: 0.01706 seconds\n",
      "3.13848\t10^5 samples, elapsed: 0.09749 seconds\n",
      "3.14143\t10^6 samples, elapsed: 0.88967 seconds\n",
      "3.14212\t10^7 samples, elapsed: 9.38504 seconds\n",
      "3.14158\t10^8 samples, elapsed: 92.00807 seconds\n"
     ]
    }
   ],
   "source": [
    "for x in range(2,9):\n",
    "    start = time.time()\n",
    "    pi = estimate_pi(n=10**x)\n",
    "    end = time.time()\n",
    "    print(f\"{round(pi,5)}\\t10^{x} samples, elapsed: {round(end - start,5)} seconds\")"
   ]
  },
  {
   "cell_type": "markdown",
   "metadata": {},
   "source": [
    "Not too bad, but as we get more accurate the computation time takes a looong time.<br>\n",
    "Can we make it go faster?"
   ]
  },
  {
   "cell_type": "code",
   "execution_count": 14,
   "metadata": {},
   "outputs": [],
   "source": [
    "def estimate_pi_faster(n=100):\n",
    "    '''\n",
    "    Estimate Pi by sampling using numpy vectorization.\n",
    "    \n",
    "    Parameters:\n",
    "        n: <int> default: 100\n",
    "            Number of samples we will make.\n",
    "\n",
    "    Returns:\n",
    "        <float> with our estimate of Pi\n",
    "    '''\n",
    "\n",
    "    if not isinstance(n, int):\n",
    "        raise ValueError('n must be an int')\n",
    "\n",
    "    is_inside_circle_2 = lambda x,y: distance_from_origin(x,y) <= 1    \n",
    "\n",
    "    x = np.random.uniform(0,1,n)\n",
    "    y = np.random.uniform(0,1,n)\n",
    "    inside_circle = ((x**2 + y**2) <= 1)\n",
    "    pi = 4 * np.sum(inside_circle) / n\n",
    "\n",
    "    return pi"
   ]
  },
  {
   "cell_type": "code",
   "execution_count": 19,
   "metadata": {},
   "outputs": [
    {
     "name": "stdout",
     "output_type": "stream",
     "text": [
      "3.14183\t10^8 samples, elapsed: 4.51296 seconds\n"
     ]
    }
   ],
   "source": [
    "start = time.time()\n",
    "pi = estimate_pi_faster(n=10**8)\n",
    "end = time.time()\n",
    "print(f\"{round(pi,5)}\\t10^{x} samples, elapsed: {round(end - start,5)} seconds\")"
   ]
  },
  {
   "cell_type": "markdown",
   "metadata": {},
   "source": [
    "... *a little bit ;)*  A ~95% reduction in duration."
   ]
  },
  {
   "cell_type": "code",
   "execution_count": 18,
   "metadata": {},
   "outputs": [
    {
     "name": "stdout",
     "output_type": "stream",
     "text": [
      "1min 34s ± 1.26 s per loop (mean ± std. dev. of 7 runs, 1 loop each)\n"
     ]
    }
   ],
   "source": [
    "# original\n",
    "%timeit estimate_pi(n=10**8)"
   ]
  },
  {
   "cell_type": "code",
   "execution_count": 17,
   "metadata": {},
   "outputs": [
    {
     "name": "stdout",
     "output_type": "stream",
     "text": [
      "3.92 s ± 83.3 ms per loop (mean ± std. dev. of 7 runs, 1 loop each)\n"
     ]
    }
   ],
   "source": [
    "# faster\n",
    "%timeit estimate_pi_faster(n=10**8)"
   ]
  },
  {
   "cell_type": "code",
   "execution_count": null,
   "metadata": {},
   "outputs": [],
   "source": []
  }
 ],
 "metadata": {
  "kernelspec": {
   "display_name": "Python 3",
   "language": "python",
   "name": "python3"
  },
  "language_info": {
   "codemirror_mode": {
    "name": "ipython",
    "version": 3
   },
   "file_extension": ".py",
   "mimetype": "text/x-python",
   "name": "python",
   "nbconvert_exporter": "python",
   "pygments_lexer": "ipython3",
   "version": "3.9.2"
  }
 },
 "nbformat": 4,
 "nbformat_minor": 4
}
